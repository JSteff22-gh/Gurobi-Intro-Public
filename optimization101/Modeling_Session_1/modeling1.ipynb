{
  "cells": [
    {
      "cell_type": "markdown",
      "id": "89eeb5ad",
      "metadata": {
        "id": "89eeb5ad"
      },
      "source": [
        "# Translating a Decision Problem to an Optimization Model\n",
        "\n",
        "In the first video we discussed a few key concepts that are necessary for mathematical optimization:\n",
        "- parameters\n",
        "- decision variables\n",
        "- constraints\n",
        "- objective function\n",
        "\n",
        "In this first modeling example we will see how these are used to formulate a decision problem as an optimization model and code the formulation using `gurobipy`. For more information on all of the commands in the Python API check out our [documentation](https://www.gurobi.com/documentation/10.0/refman/py_python_api_details.html).\n",
        "\n",
        "## The Decision Problem\n",
        "We make widgets. Have a set of production facilities that produce boxes of widgets. There is also a set of distribution locations that will then distribute the widgets for sale. Each distribution center has a forecasted demand and each production facility has a min and max number of widgets it can make during this period. We need to ensure that each distribution facility receives enough widgets to satisfy demand from production and we want to do this at minimal cost. The minimum production is 75% of the production facilities max value.\n",
        "\n",
        "## Sets and Define Model\n",
        "Our sets are:\n",
        "- $P = \\{\\texttt{'Baltimore', 'Cleveland', 'Little Rock', 'Birmingham', 'Charleston'}\\} \\quad\\quad\\quad\\quad\\quad\\quad\\quad\\space\\space \\texttt{production}$\n",
        "- $D = \\{\\texttt{'Columbia', 'Indianapolis', 'Lexington', 'Nashville', 'Richmond', 'St. Louis'}\\} \\quad\\quad\\quad \\texttt{distribution}$\n",
        "\n",
        "To index each set, we'll use the lowercase letter of each set. Letters used for sets and indices are up to you. Typically, capital letters are for sets and corresponding lowercase will be the index. Single letters are used mainly for conciseness."
      ]
    },
    {
      "cell_type": "code",
      "execution_count": 2,
      "id": "28e16593-5c56-43d6-b2fb-d05835d38ea3",
      "metadata": {
        "colab": {
          "base_uri": "https://localhost:8080/"
        },
        "id": "28e16593-5c56-43d6-b2fb-d05835d38ea3",
        "outputId": "7ebcc251-3080-4b61-b974-8bbea3518160"
      },
      "outputs": [
        {
          "output_type": "stream",
          "name": "stdout",
          "text": [
            "Requirement already satisfied: gurobipy in /usr/local/lib/python3.11/dist-packages (12.0.2)\n",
            "Restricted license - for non-production use only - expires 2026-11-23\n"
          ]
        }
      ],
      "source": [
        "%pip install gurobipy\n",
        "\n",
        "# Import packages\n",
        "import pandas as pd\n",
        "import gurobipy as gp\n",
        "from gurobipy import GRB\n",
        "\n",
        "# Sets P and D, respectively\n",
        "# When we code sets we can be more descriptive in the name\n",
        "production = ['Baltimore','Cleveland','Little_Rock','Birmingham','Charleston']\n",
        "distribution = ['Columbia','Indianapolis','Lexington','Nashville','Richmond','St._Louis']\n",
        "\n",
        "# Define a gurobipy model for the decision problem\n",
        "m = gp.Model('widgets')"
      ]
    },
    {
      "cell_type": "markdown",
      "id": "728aaa2d-b631-4ce3-9bd2-c619732a291c",
      "metadata": {
        "id": "728aaa2d-b631-4ce3-9bd2-c619732a291c"
      },
      "source": [
        "## Parameters\n",
        "\n",
        "Parameters of a math optimization problem are values treated as constants in the model and are associated with the decision variables. For this decision problem these values are the limits of each production facility, the demand for each distribution center, and the pairwise costs between production and distribution locations.\n",
        "\n",
        "- $m_p$ is the max production in location $p$, $\\forall p \\in P \\quad\\quad\\quad\\quad\\quad\\quad\\quad\\quad\\quad\\quad\\quad\\quad\\quad\\quad\\space\\space \\texttt{max}\\_\\texttt{prod[p]}$\n",
        "- $n_d$ is the number of customers for a distribution center $d$, $\\forall d \\in D \\quad\\quad\\quad\\quad\\quad\\quad\\quad\\quad \\texttt{n}\\_\\texttt{demand[d]}$\n",
        "- $c_{p,d}$ is the cost to ship a widget between location $p$ and location $d$, $\\forall p \\in P, d \\in D \\quad\\quad\\quad \\texttt{cost[p,d]}$"
      ]
    },
    {
      "cell_type": "code",
      "execution_count": 3,
      "id": "924fa2e7-7f88-4f69-a5e1-74feed55adf5",
      "metadata": {
        "colab": {
          "base_uri": "https://localhost:8080/",
          "height": 238
        },
        "id": "924fa2e7-7f88-4f69-a5e1-74feed55adf5",
        "outputId": "7a4b1739-ca09-4d53-9488-a0d9cd21a4d4"
      },
      "outputs": [
        {
          "output_type": "execute_result",
          "data": {
            "text/plain": [
              "distribution  Columbia  Indianapolis  Lexington  Nashville  Richmond  \\\n",
              "production                                                             \n",
              "Baltimore         4.50          5.09       4.33       5.96      1.96   \n",
              "Birmingham        3.33          4.33       3.38       1.53      5.95   \n",
              "Charleston        3.02          2.61       1.61       4.44      2.36   \n",
              "Cleveland         2.43          2.37       2.54       4.13      3.20   \n",
              "Little_Rock       6.42          4.83       3.39       4.40      7.44   \n",
              "\n",
              "distribution  St._Louis  \n",
              "production               \n",
              "Baltimore          7.30  \n",
              "Birmingham         4.01  \n",
              "Charleston         4.60  \n",
              "Cleveland          4.88  \n",
              "Little_Rock        2.92  "
            ],
            "text/html": [
              "\n",
              "  <div id=\"df-389f8d76-b2a0-4cc4-9eaf-9a8b5a4becbf\" class=\"colab-df-container\">\n",
              "    <div>\n",
              "<style scoped>\n",
              "    .dataframe tbody tr th:only-of-type {\n",
              "        vertical-align: middle;\n",
              "    }\n",
              "\n",
              "    .dataframe tbody tr th {\n",
              "        vertical-align: top;\n",
              "    }\n",
              "\n",
              "    .dataframe thead th {\n",
              "        text-align: right;\n",
              "    }\n",
              "</style>\n",
              "<table border=\"1\" class=\"dataframe\">\n",
              "  <thead>\n",
              "    <tr style=\"text-align: right;\">\n",
              "      <th>distribution</th>\n",
              "      <th>Columbia</th>\n",
              "      <th>Indianapolis</th>\n",
              "      <th>Lexington</th>\n",
              "      <th>Nashville</th>\n",
              "      <th>Richmond</th>\n",
              "      <th>St._Louis</th>\n",
              "    </tr>\n",
              "    <tr>\n",
              "      <th>production</th>\n",
              "      <th></th>\n",
              "      <th></th>\n",
              "      <th></th>\n",
              "      <th></th>\n",
              "      <th></th>\n",
              "      <th></th>\n",
              "    </tr>\n",
              "  </thead>\n",
              "  <tbody>\n",
              "    <tr>\n",
              "      <th>Baltimore</th>\n",
              "      <td>4.50</td>\n",
              "      <td>5.09</td>\n",
              "      <td>4.33</td>\n",
              "      <td>5.96</td>\n",
              "      <td>1.96</td>\n",
              "      <td>7.30</td>\n",
              "    </tr>\n",
              "    <tr>\n",
              "      <th>Birmingham</th>\n",
              "      <td>3.33</td>\n",
              "      <td>4.33</td>\n",
              "      <td>3.38</td>\n",
              "      <td>1.53</td>\n",
              "      <td>5.95</td>\n",
              "      <td>4.01</td>\n",
              "    </tr>\n",
              "    <tr>\n",
              "      <th>Charleston</th>\n",
              "      <td>3.02</td>\n",
              "      <td>2.61</td>\n",
              "      <td>1.61</td>\n",
              "      <td>4.44</td>\n",
              "      <td>2.36</td>\n",
              "      <td>4.60</td>\n",
              "    </tr>\n",
              "    <tr>\n",
              "      <th>Cleveland</th>\n",
              "      <td>2.43</td>\n",
              "      <td>2.37</td>\n",
              "      <td>2.54</td>\n",
              "      <td>4.13</td>\n",
              "      <td>3.20</td>\n",
              "      <td>4.88</td>\n",
              "    </tr>\n",
              "    <tr>\n",
              "      <th>Little_Rock</th>\n",
              "      <td>6.42</td>\n",
              "      <td>4.83</td>\n",
              "      <td>3.39</td>\n",
              "      <td>4.40</td>\n",
              "      <td>7.44</td>\n",
              "      <td>2.92</td>\n",
              "    </tr>\n",
              "  </tbody>\n",
              "</table>\n",
              "</div>\n",
              "    <div class=\"colab-df-buttons\">\n",
              "\n",
              "  <div class=\"colab-df-container\">\n",
              "    <button class=\"colab-df-convert\" onclick=\"convertToInteractive('df-389f8d76-b2a0-4cc4-9eaf-9a8b5a4becbf')\"\n",
              "            title=\"Convert this dataframe to an interactive table.\"\n",
              "            style=\"display:none;\">\n",
              "\n",
              "  <svg xmlns=\"http://www.w3.org/2000/svg\" height=\"24px\" viewBox=\"0 -960 960 960\">\n",
              "    <path d=\"M120-120v-720h720v720H120Zm60-500h600v-160H180v160Zm220 220h160v-160H400v160Zm0 220h160v-160H400v160ZM180-400h160v-160H180v160Zm440 0h160v-160H620v160ZM180-180h160v-160H180v160Zm440 0h160v-160H620v160Z\"/>\n",
              "  </svg>\n",
              "    </button>\n",
              "\n",
              "  <style>\n",
              "    .colab-df-container {\n",
              "      display:flex;\n",
              "      gap: 12px;\n",
              "    }\n",
              "\n",
              "    .colab-df-convert {\n",
              "      background-color: #E8F0FE;\n",
              "      border: none;\n",
              "      border-radius: 50%;\n",
              "      cursor: pointer;\n",
              "      display: none;\n",
              "      fill: #1967D2;\n",
              "      height: 32px;\n",
              "      padding: 0 0 0 0;\n",
              "      width: 32px;\n",
              "    }\n",
              "\n",
              "    .colab-df-convert:hover {\n",
              "      background-color: #E2EBFA;\n",
              "      box-shadow: 0px 1px 2px rgba(60, 64, 67, 0.3), 0px 1px 3px 1px rgba(60, 64, 67, 0.15);\n",
              "      fill: #174EA6;\n",
              "    }\n",
              "\n",
              "    .colab-df-buttons div {\n",
              "      margin-bottom: 4px;\n",
              "    }\n",
              "\n",
              "    [theme=dark] .colab-df-convert {\n",
              "      background-color: #3B4455;\n",
              "      fill: #D2E3FC;\n",
              "    }\n",
              "\n",
              "    [theme=dark] .colab-df-convert:hover {\n",
              "      background-color: #434B5C;\n",
              "      box-shadow: 0px 1px 3px 1px rgba(0, 0, 0, 0.15);\n",
              "      filter: drop-shadow(0px 1px 2px rgba(0, 0, 0, 0.3));\n",
              "      fill: #FFFFFF;\n",
              "    }\n",
              "  </style>\n",
              "\n",
              "    <script>\n",
              "      const buttonEl =\n",
              "        document.querySelector('#df-389f8d76-b2a0-4cc4-9eaf-9a8b5a4becbf button.colab-df-convert');\n",
              "      buttonEl.style.display =\n",
              "        google.colab.kernel.accessAllowed ? 'block' : 'none';\n",
              "\n",
              "      async function convertToInteractive(key) {\n",
              "        const element = document.querySelector('#df-389f8d76-b2a0-4cc4-9eaf-9a8b5a4becbf');\n",
              "        const dataTable =\n",
              "          await google.colab.kernel.invokeFunction('convertToInteractive',\n",
              "                                                    [key], {});\n",
              "        if (!dataTable) return;\n",
              "\n",
              "        const docLinkHtml = 'Like what you see? Visit the ' +\n",
              "          '<a target=\"_blank\" href=https://colab.research.google.com/notebooks/data_table.ipynb>data table notebook</a>'\n",
              "          + ' to learn more about interactive tables.';\n",
              "        element.innerHTML = '';\n",
              "        dataTable['output_type'] = 'display_data';\n",
              "        await google.colab.output.renderOutput(dataTable, element);\n",
              "        const docLink = document.createElement('div');\n",
              "        docLink.innerHTML = docLinkHtml;\n",
              "        element.appendChild(docLink);\n",
              "      }\n",
              "    </script>\n",
              "  </div>\n",
              "\n",
              "\n",
              "    <div id=\"df-e26d4a48-cde8-4c88-9fed-0e25dccbd084\">\n",
              "      <button class=\"colab-df-quickchart\" onclick=\"quickchart('df-e26d4a48-cde8-4c88-9fed-0e25dccbd084')\"\n",
              "                title=\"Suggest charts\"\n",
              "                style=\"display:none;\">\n",
              "\n",
              "<svg xmlns=\"http://www.w3.org/2000/svg\" height=\"24px\"viewBox=\"0 0 24 24\"\n",
              "     width=\"24px\">\n",
              "    <g>\n",
              "        <path d=\"M19 3H5c-1.1 0-2 .9-2 2v14c0 1.1.9 2 2 2h14c1.1 0 2-.9 2-2V5c0-1.1-.9-2-2-2zM9 17H7v-7h2v7zm4 0h-2V7h2v10zm4 0h-2v-4h2v4z\"/>\n",
              "    </g>\n",
              "</svg>\n",
              "      </button>\n",
              "\n",
              "<style>\n",
              "  .colab-df-quickchart {\n",
              "      --bg-color: #E8F0FE;\n",
              "      --fill-color: #1967D2;\n",
              "      --hover-bg-color: #E2EBFA;\n",
              "      --hover-fill-color: #174EA6;\n",
              "      --disabled-fill-color: #AAA;\n",
              "      --disabled-bg-color: #DDD;\n",
              "  }\n",
              "\n",
              "  [theme=dark] .colab-df-quickchart {\n",
              "      --bg-color: #3B4455;\n",
              "      --fill-color: #D2E3FC;\n",
              "      --hover-bg-color: #434B5C;\n",
              "      --hover-fill-color: #FFFFFF;\n",
              "      --disabled-bg-color: #3B4455;\n",
              "      --disabled-fill-color: #666;\n",
              "  }\n",
              "\n",
              "  .colab-df-quickchart {\n",
              "    background-color: var(--bg-color);\n",
              "    border: none;\n",
              "    border-radius: 50%;\n",
              "    cursor: pointer;\n",
              "    display: none;\n",
              "    fill: var(--fill-color);\n",
              "    height: 32px;\n",
              "    padding: 0;\n",
              "    width: 32px;\n",
              "  }\n",
              "\n",
              "  .colab-df-quickchart:hover {\n",
              "    background-color: var(--hover-bg-color);\n",
              "    box-shadow: 0 1px 2px rgba(60, 64, 67, 0.3), 0 1px 3px 1px rgba(60, 64, 67, 0.15);\n",
              "    fill: var(--button-hover-fill-color);\n",
              "  }\n",
              "\n",
              "  .colab-df-quickchart-complete:disabled,\n",
              "  .colab-df-quickchart-complete:disabled:hover {\n",
              "    background-color: var(--disabled-bg-color);\n",
              "    fill: var(--disabled-fill-color);\n",
              "    box-shadow: none;\n",
              "  }\n",
              "\n",
              "  .colab-df-spinner {\n",
              "    border: 2px solid var(--fill-color);\n",
              "    border-color: transparent;\n",
              "    border-bottom-color: var(--fill-color);\n",
              "    animation:\n",
              "      spin 1s steps(1) infinite;\n",
              "  }\n",
              "\n",
              "  @keyframes spin {\n",
              "    0% {\n",
              "      border-color: transparent;\n",
              "      border-bottom-color: var(--fill-color);\n",
              "      border-left-color: var(--fill-color);\n",
              "    }\n",
              "    20% {\n",
              "      border-color: transparent;\n",
              "      border-left-color: var(--fill-color);\n",
              "      border-top-color: var(--fill-color);\n",
              "    }\n",
              "    30% {\n",
              "      border-color: transparent;\n",
              "      border-left-color: var(--fill-color);\n",
              "      border-top-color: var(--fill-color);\n",
              "      border-right-color: var(--fill-color);\n",
              "    }\n",
              "    40% {\n",
              "      border-color: transparent;\n",
              "      border-right-color: var(--fill-color);\n",
              "      border-top-color: var(--fill-color);\n",
              "    }\n",
              "    60% {\n",
              "      border-color: transparent;\n",
              "      border-right-color: var(--fill-color);\n",
              "    }\n",
              "    80% {\n",
              "      border-color: transparent;\n",
              "      border-right-color: var(--fill-color);\n",
              "      border-bottom-color: var(--fill-color);\n",
              "    }\n",
              "    90% {\n",
              "      border-color: transparent;\n",
              "      border-bottom-color: var(--fill-color);\n",
              "    }\n",
              "  }\n",
              "</style>\n",
              "\n",
              "      <script>\n",
              "        async function quickchart(key) {\n",
              "          const quickchartButtonEl =\n",
              "            document.querySelector('#' + key + ' button');\n",
              "          quickchartButtonEl.disabled = true;  // To prevent multiple clicks.\n",
              "          quickchartButtonEl.classList.add('colab-df-spinner');\n",
              "          try {\n",
              "            const charts = await google.colab.kernel.invokeFunction(\n",
              "                'suggestCharts', [key], {});\n",
              "          } catch (error) {\n",
              "            console.error('Error during call to suggestCharts:', error);\n",
              "          }\n",
              "          quickchartButtonEl.classList.remove('colab-df-spinner');\n",
              "          quickchartButtonEl.classList.add('colab-df-quickchart-complete');\n",
              "        }\n",
              "        (() => {\n",
              "          let quickchartButtonEl =\n",
              "            document.querySelector('#df-e26d4a48-cde8-4c88-9fed-0e25dccbd084 button');\n",
              "          quickchartButtonEl.style.display =\n",
              "            google.colab.kernel.accessAllowed ? 'block' : 'none';\n",
              "        })();\n",
              "      </script>\n",
              "    </div>\n",
              "\n",
              "    </div>\n",
              "  </div>\n"
            ],
            "application/vnd.google.colaboratory.intrinsic+json": {
              "type": "dataframe",
              "summary": "{\n  \"name\": \"transp_cost\",\n  \"rows\": 5,\n  \"fields\": [\n    {\n      \"column\": \"production\",\n      \"properties\": {\n        \"dtype\": \"string\",\n        \"num_unique_values\": 5,\n        \"samples\": [\n          \"Birmingham\",\n          \"Little_Rock\",\n          \"Charleston\"\n        ],\n        \"semantic_type\": \"\",\n        \"description\": \"\"\n      }\n    },\n    {\n      \"column\": \"Columbia\",\n      \"properties\": {\n        \"dtype\": \"number\",\n        \"std\": 1.578179330747935,\n        \"min\": 2.43,\n        \"max\": 6.42,\n        \"num_unique_values\": 5,\n        \"samples\": [\n          3.33,\n          6.42,\n          3.02\n        ],\n        \"semantic_type\": \"\",\n        \"description\": \"\"\n      }\n    },\n    {\n      \"column\": \"Indianapolis\",\n      \"properties\": {\n        \"dtype\": \"number\",\n        \"std\": 1.2704644819907402,\n        \"min\": 2.37,\n        \"max\": 5.09,\n        \"num_unique_values\": 5,\n        \"samples\": [\n          4.33,\n          4.83,\n          2.61\n        ],\n        \"semantic_type\": \"\",\n        \"description\": \"\"\n      }\n    },\n    {\n      \"column\": \"Lexington\",\n      \"properties\": {\n        \"dtype\": \"number\",\n        \"std\": 1.02428023509194,\n        \"min\": 1.61,\n        \"max\": 4.33,\n        \"num_unique_values\": 5,\n        \"samples\": [\n          3.38,\n          3.39,\n          1.61\n        ],\n        \"semantic_type\": \"\",\n        \"description\": \"\"\n      }\n    },\n    {\n      \"column\": \"Nashville\",\n      \"properties\": {\n        \"dtype\": \"number\",\n        \"std\": 1.6023950823688893,\n        \"min\": 1.53,\n        \"max\": 5.96,\n        \"num_unique_values\": 5,\n        \"samples\": [\n          1.53,\n          4.4,\n          4.44\n        ],\n        \"semantic_type\": \"\",\n        \"description\": \"\"\n      }\n    },\n    {\n      \"column\": \"Richmond\",\n      \"properties\": {\n        \"dtype\": \"number\",\n        \"std\": 2.3959173608453193,\n        \"min\": 1.96,\n        \"max\": 7.44,\n        \"num_unique_values\": 5,\n        \"samples\": [\n          5.95,\n          7.44,\n          2.36\n        ],\n        \"semantic_type\": \"\",\n        \"description\": \"\"\n      }\n    },\n    {\n      \"column\": \"St._Louis\",\n      \"properties\": {\n        \"dtype\": \"number\",\n        \"std\": 1.6154008790390082,\n        \"min\": 2.92,\n        \"max\": 7.3,\n        \"num_unique_values\": 5,\n        \"samples\": [\n          4.01,\n          2.92,\n          4.6\n        ],\n        \"semantic_type\": \"\",\n        \"description\": \"\"\n      }\n    }\n  ]\n}"
            }
          },
          "metadata": {},
          "execution_count": 3
        }
      ],
      "source": [
        "# Use .squeeze(\"columns\") to make the costs a series\n",
        "path = 'https://raw.githubusercontent.com/Gurobi/modeling-examples/master/optimization101/Modeling_Session_1/'\n",
        "transp_cost = pd.read_csv(path + 'cost.csv', index_col=[0,1]).squeeze(\"columns\")\n",
        "# transp_cost = pd.read_csv('cost.csv', index_col=[0,1]).squeeze(\"columns\")\n",
        "\n",
        "\n",
        "transp_cost = transp_cost.rename(index={\"St. Louis\": \"St._Louis\"}, level=\"distribution\")\n",
        "transp_cost = transp_cost.rename(index={\"Little Rock\": \"Little_Rock\"}, level=\"production\")\n",
        "\n",
        "\n",
        "# Pivot to view the costs a bit easier\n",
        "transp_cost.reset_index().pivot(index='production', columns='distribution', values='cost')"
      ]
    },
    {
      "cell_type": "code",
      "execution_count": 4,
      "id": "cf7664cc-4547-4b72-948f-a02e138c45d9",
      "metadata": {
        "colab": {
          "base_uri": "https://localhost:8080/",
          "height": 238
        },
        "id": "cf7664cc-4547-4b72-948f-a02e138c45d9",
        "outputId": "67feb161-6db6-4ef7-95cb-cd9ad0a182f0"
      },
      "outputs": [
        {
          "output_type": "execute_result",
          "data": {
            "text/plain": [
              "              demand\n",
              "Columbia          89\n",
              "Indianapolis      95\n",
              "Lexington        121\n",
              "Nashville        101\n",
              "Richmond         116\n",
              "St._Louis        181"
            ],
            "text/html": [
              "\n",
              "  <div id=\"df-b06a2a1b-1286-41d2-abfe-da10155e60a1\" class=\"colab-df-container\">\n",
              "    <div>\n",
              "<style scoped>\n",
              "    .dataframe tbody tr th:only-of-type {\n",
              "        vertical-align: middle;\n",
              "    }\n",
              "\n",
              "    .dataframe tbody tr th {\n",
              "        vertical-align: top;\n",
              "    }\n",
              "\n",
              "    .dataframe thead th {\n",
              "        text-align: right;\n",
              "    }\n",
              "</style>\n",
              "<table border=\"1\" class=\"dataframe\">\n",
              "  <thead>\n",
              "    <tr style=\"text-align: right;\">\n",
              "      <th></th>\n",
              "      <th>demand</th>\n",
              "    </tr>\n",
              "  </thead>\n",
              "  <tbody>\n",
              "    <tr>\n",
              "      <th>Columbia</th>\n",
              "      <td>89</td>\n",
              "    </tr>\n",
              "    <tr>\n",
              "      <th>Indianapolis</th>\n",
              "      <td>95</td>\n",
              "    </tr>\n",
              "    <tr>\n",
              "      <th>Lexington</th>\n",
              "      <td>121</td>\n",
              "    </tr>\n",
              "    <tr>\n",
              "      <th>Nashville</th>\n",
              "      <td>101</td>\n",
              "    </tr>\n",
              "    <tr>\n",
              "      <th>Richmond</th>\n",
              "      <td>116</td>\n",
              "    </tr>\n",
              "    <tr>\n",
              "      <th>St._Louis</th>\n",
              "      <td>181</td>\n",
              "    </tr>\n",
              "  </tbody>\n",
              "</table>\n",
              "</div>\n",
              "    <div class=\"colab-df-buttons\">\n",
              "\n",
              "  <div class=\"colab-df-container\">\n",
              "    <button class=\"colab-df-convert\" onclick=\"convertToInteractive('df-b06a2a1b-1286-41d2-abfe-da10155e60a1')\"\n",
              "            title=\"Convert this dataframe to an interactive table.\"\n",
              "            style=\"display:none;\">\n",
              "\n",
              "  <svg xmlns=\"http://www.w3.org/2000/svg\" height=\"24px\" viewBox=\"0 -960 960 960\">\n",
              "    <path d=\"M120-120v-720h720v720H120Zm60-500h600v-160H180v160Zm220 220h160v-160H400v160Zm0 220h160v-160H400v160ZM180-400h160v-160H180v160Zm440 0h160v-160H620v160ZM180-180h160v-160H180v160Zm440 0h160v-160H620v160Z\"/>\n",
              "  </svg>\n",
              "    </button>\n",
              "\n",
              "  <style>\n",
              "    .colab-df-container {\n",
              "      display:flex;\n",
              "      gap: 12px;\n",
              "    }\n",
              "\n",
              "    .colab-df-convert {\n",
              "      background-color: #E8F0FE;\n",
              "      border: none;\n",
              "      border-radius: 50%;\n",
              "      cursor: pointer;\n",
              "      display: none;\n",
              "      fill: #1967D2;\n",
              "      height: 32px;\n",
              "      padding: 0 0 0 0;\n",
              "      width: 32px;\n",
              "    }\n",
              "\n",
              "    .colab-df-convert:hover {\n",
              "      background-color: #E2EBFA;\n",
              "      box-shadow: 0px 1px 2px rgba(60, 64, 67, 0.3), 0px 1px 3px 1px rgba(60, 64, 67, 0.15);\n",
              "      fill: #174EA6;\n",
              "    }\n",
              "\n",
              "    .colab-df-buttons div {\n",
              "      margin-bottom: 4px;\n",
              "    }\n",
              "\n",
              "    [theme=dark] .colab-df-convert {\n",
              "      background-color: #3B4455;\n",
              "      fill: #D2E3FC;\n",
              "    }\n",
              "\n",
              "    [theme=dark] .colab-df-convert:hover {\n",
              "      background-color: #434B5C;\n",
              "      box-shadow: 0px 1px 3px 1px rgba(0, 0, 0, 0.15);\n",
              "      filter: drop-shadow(0px 1px 2px rgba(0, 0, 0, 0.3));\n",
              "      fill: #FFFFFF;\n",
              "    }\n",
              "  </style>\n",
              "\n",
              "    <script>\n",
              "      const buttonEl =\n",
              "        document.querySelector('#df-b06a2a1b-1286-41d2-abfe-da10155e60a1 button.colab-df-convert');\n",
              "      buttonEl.style.display =\n",
              "        google.colab.kernel.accessAllowed ? 'block' : 'none';\n",
              "\n",
              "      async function convertToInteractive(key) {\n",
              "        const element = document.querySelector('#df-b06a2a1b-1286-41d2-abfe-da10155e60a1');\n",
              "        const dataTable =\n",
              "          await google.colab.kernel.invokeFunction('convertToInteractive',\n",
              "                                                    [key], {});\n",
              "        if (!dataTable) return;\n",
              "\n",
              "        const docLinkHtml = 'Like what you see? Visit the ' +\n",
              "          '<a target=\"_blank\" href=https://colab.research.google.com/notebooks/data_table.ipynb>data table notebook</a>'\n",
              "          + ' to learn more about interactive tables.';\n",
              "        element.innerHTML = '';\n",
              "        dataTable['output_type'] = 'display_data';\n",
              "        await google.colab.output.renderOutput(dataTable, element);\n",
              "        const docLink = document.createElement('div');\n",
              "        docLink.innerHTML = docLinkHtml;\n",
              "        element.appendChild(docLink);\n",
              "      }\n",
              "    </script>\n",
              "  </div>\n",
              "\n",
              "\n",
              "    <div id=\"df-03cb30b7-90bd-42b6-84a6-bc205febe079\">\n",
              "      <button class=\"colab-df-quickchart\" onclick=\"quickchart('df-03cb30b7-90bd-42b6-84a6-bc205febe079')\"\n",
              "                title=\"Suggest charts\"\n",
              "                style=\"display:none;\">\n",
              "\n",
              "<svg xmlns=\"http://www.w3.org/2000/svg\" height=\"24px\"viewBox=\"0 0 24 24\"\n",
              "     width=\"24px\">\n",
              "    <g>\n",
              "        <path d=\"M19 3H5c-1.1 0-2 .9-2 2v14c0 1.1.9 2 2 2h14c1.1 0 2-.9 2-2V5c0-1.1-.9-2-2-2zM9 17H7v-7h2v7zm4 0h-2V7h2v10zm4 0h-2v-4h2v4z\"/>\n",
              "    </g>\n",
              "</svg>\n",
              "      </button>\n",
              "\n",
              "<style>\n",
              "  .colab-df-quickchart {\n",
              "      --bg-color: #E8F0FE;\n",
              "      --fill-color: #1967D2;\n",
              "      --hover-bg-color: #E2EBFA;\n",
              "      --hover-fill-color: #174EA6;\n",
              "      --disabled-fill-color: #AAA;\n",
              "      --disabled-bg-color: #DDD;\n",
              "  }\n",
              "\n",
              "  [theme=dark] .colab-df-quickchart {\n",
              "      --bg-color: #3B4455;\n",
              "      --fill-color: #D2E3FC;\n",
              "      --hover-bg-color: #434B5C;\n",
              "      --hover-fill-color: #FFFFFF;\n",
              "      --disabled-bg-color: #3B4455;\n",
              "      --disabled-fill-color: #666;\n",
              "  }\n",
              "\n",
              "  .colab-df-quickchart {\n",
              "    background-color: var(--bg-color);\n",
              "    border: none;\n",
              "    border-radius: 50%;\n",
              "    cursor: pointer;\n",
              "    display: none;\n",
              "    fill: var(--fill-color);\n",
              "    height: 32px;\n",
              "    padding: 0;\n",
              "    width: 32px;\n",
              "  }\n",
              "\n",
              "  .colab-df-quickchart:hover {\n",
              "    background-color: var(--hover-bg-color);\n",
              "    box-shadow: 0 1px 2px rgba(60, 64, 67, 0.3), 0 1px 3px 1px rgba(60, 64, 67, 0.15);\n",
              "    fill: var(--button-hover-fill-color);\n",
              "  }\n",
              "\n",
              "  .colab-df-quickchart-complete:disabled,\n",
              "  .colab-df-quickchart-complete:disabled:hover {\n",
              "    background-color: var(--disabled-bg-color);\n",
              "    fill: var(--disabled-fill-color);\n",
              "    box-shadow: none;\n",
              "  }\n",
              "\n",
              "  .colab-df-spinner {\n",
              "    border: 2px solid var(--fill-color);\n",
              "    border-color: transparent;\n",
              "    border-bottom-color: var(--fill-color);\n",
              "    animation:\n",
              "      spin 1s steps(1) infinite;\n",
              "  }\n",
              "\n",
              "  @keyframes spin {\n",
              "    0% {\n",
              "      border-color: transparent;\n",
              "      border-bottom-color: var(--fill-color);\n",
              "      border-left-color: var(--fill-color);\n",
              "    }\n",
              "    20% {\n",
              "      border-color: transparent;\n",
              "      border-left-color: var(--fill-color);\n",
              "      border-top-color: var(--fill-color);\n",
              "    }\n",
              "    30% {\n",
              "      border-color: transparent;\n",
              "      border-left-color: var(--fill-color);\n",
              "      border-top-color: var(--fill-color);\n",
              "      border-right-color: var(--fill-color);\n",
              "    }\n",
              "    40% {\n",
              "      border-color: transparent;\n",
              "      border-right-color: var(--fill-color);\n",
              "      border-top-color: var(--fill-color);\n",
              "    }\n",
              "    60% {\n",
              "      border-color: transparent;\n",
              "      border-right-color: var(--fill-color);\n",
              "    }\n",
              "    80% {\n",
              "      border-color: transparent;\n",
              "      border-right-color: var(--fill-color);\n",
              "      border-bottom-color: var(--fill-color);\n",
              "    }\n",
              "    90% {\n",
              "      border-color: transparent;\n",
              "      border-bottom-color: var(--fill-color);\n",
              "    }\n",
              "  }\n",
              "</style>\n",
              "\n",
              "      <script>\n",
              "        async function quickchart(key) {\n",
              "          const quickchartButtonEl =\n",
              "            document.querySelector('#' + key + ' button');\n",
              "          quickchartButtonEl.disabled = true;  // To prevent multiple clicks.\n",
              "          quickchartButtonEl.classList.add('colab-df-spinner');\n",
              "          try {\n",
              "            const charts = await google.colab.kernel.invokeFunction(\n",
              "                'suggestCharts', [key], {});\n",
              "          } catch (error) {\n",
              "            console.error('Error during call to suggestCharts:', error);\n",
              "          }\n",
              "          quickchartButtonEl.classList.remove('colab-df-spinner');\n",
              "          quickchartButtonEl.classList.add('colab-df-quickchart-complete');\n",
              "        }\n",
              "        (() => {\n",
              "          let quickchartButtonEl =\n",
              "            document.querySelector('#df-03cb30b7-90bd-42b6-84a6-bc205febe079 button');\n",
              "          quickchartButtonEl.style.display =\n",
              "            google.colab.kernel.accessAllowed ? 'block' : 'none';\n",
              "        })();\n",
              "      </script>\n",
              "    </div>\n",
              "\n",
              "    </div>\n",
              "  </div>\n"
            ],
            "application/vnd.google.colaboratory.intrinsic+json": {
              "type": "dataframe",
              "summary": "{\n  \"name\": \"n_demand\",\n  \"rows\": 6,\n  \"fields\": [\n    {\n      \"column\": \"demand\",\n      \"properties\": {\n        \"dtype\": \"number\",\n        \"std\": 33,\n        \"min\": 89,\n        \"max\": 181,\n        \"num_unique_values\": 6,\n        \"samples\": [\n          89,\n          95,\n          181\n        ],\n        \"semantic_type\": \"\",\n        \"description\": \"\"\n      }\n    }\n  ]\n}"
            }
          },
          "metadata": {},
          "execution_count": 4
        }
      ],
      "source": [
        "max_prod = pd.Series([180,200,140,80,180], index = production, name = \"max_production\")\n",
        "n_demand = pd.Series([89,95,121,101,116,181], index = distribution, name = \"demand\")\n",
        "max_prod.to_frame()\n",
        "n_demand.to_frame()"
      ]
    },
    {
      "cell_type": "markdown",
      "id": "fd659abc-ab18-49d4-b42e-43e43f19cccf",
      "metadata": {
        "id": "fd659abc-ab18-49d4-b42e-43e43f19cccf"
      },
      "source": [
        "We also have the requirement that each production facility needs to produce at 75% of this maximum output. We'll denote this value by $a$ in the formulation \"frac\" for the fraction of maximum production required. Initially we set $a = 0.75$."
      ]
    },
    {
      "cell_type": "code",
      "execution_count": 5,
      "id": "dd77683c-47d1-4ee2-af3d-e9ce2003c209",
      "metadata": {
        "id": "dd77683c-47d1-4ee2-af3d-e9ce2003c209"
      },
      "outputs": [],
      "source": [
        "frac = 0.75"
      ]
    },
    {
      "cell_type": "markdown",
      "id": "cca98af8-c5c2-4883-8c48-f104ff798010",
      "metadata": {
        "id": "cca98af8-c5c2-4883-8c48-f104ff798010"
      },
      "source": [
        "## Decision Variables\n",
        "This is what the optimization solver determines, which are the actions you have control over. As a reminder, they come in three main flavors:\n",
        "- `Continuous`: Price of a product\n",
        "- `Integer`: The number of food trucks to use for an event\n",
        "- `Binary`: Yes/no decision to include a certain stock in a portfolio\n",
        "\n",
        "Decision variables (and parameters) are indexed using elements of sets that we define for the problem. In this example, let's start with a set of cities that produce our widget, which we call set $P$ for the formulation but can define as 'production' in the code. And a set of cities that distribute the widget $D$ and 'distribution' similarly. The decision here is to determine the number of boxes to send from each production facility to each distribution location.\n",
        "\n",
        "Let $x_{p,d}$ be the number of widgets that are produced at facility $p$ and shipped to location $d$.\n",
        "\n",
        "### Add Variables in gurobipy\n",
        "`gurobipy` let's you add decision variables primarily with two (similar) commands:\n",
        "- [addVar()](https://www.gurobi.com/documentation/10.0/refman/py_model_addvar.html) adds a single variable\n",
        "- [addVars()](https://www.gurobi.com/documentation/10.0/refman/py_model_addvar.html) adds a group of variables by sets/indices\n",
        "\n",
        "When using `addVars` you have to provide the indices of the variables you want to add, which for us are the production and distribution locations. There are other arguments we can use and will cover a couple of them later on.  \n",
        "\n",
        "### Our Decision Variables\n",
        "As is often the case in writing code, there are several ways to get to the same point. Below we can see three different ways to create the decision variables."
      ]
    },
    {
      "cell_type": "code",
      "execution_count": 6,
      "id": "ed5c511b-6da0-4edd-a647-7cf91c67aeda",
      "metadata": {
        "colab": {
          "base_uri": "https://localhost:8080/"
        },
        "id": "ed5c511b-6da0-4edd-a647-7cf91c67aeda",
        "outputId": "d885575b-8587-44ec-ff92-eda2da2692bc"
      },
      "outputs": [
        {
          "output_type": "execute_result",
          "data": {
            "text/plain": [
              "{('Baltimore', 'Columbia'): <gurobi.Var Baltimore_to_Columbia>,\n",
              " ('Baltimore', 'Indianapolis'): <gurobi.Var Baltimore_to_Indianapolis>,\n",
              " ('Baltimore', 'Lexington'): <gurobi.Var Baltimore_to_Lexington>,\n",
              " ('Baltimore', 'Nashville'): <gurobi.Var Baltimore_to_Nashville>,\n",
              " ('Baltimore', 'Richmond'): <gurobi.Var Baltimore_to_Richmond>,\n",
              " ('Baltimore', 'St._Louis'): <gurobi.Var Baltimore_to_St._Louis>,\n",
              " ('Cleveland', 'Columbia'): <gurobi.Var Cleveland_to_Columbia>,\n",
              " ('Cleveland', 'Indianapolis'): <gurobi.Var Cleveland_to_Indianapolis>,\n",
              " ('Cleveland', 'Lexington'): <gurobi.Var Cleveland_to_Lexington>,\n",
              " ('Cleveland', 'Nashville'): <gurobi.Var Cleveland_to_Nashville>,\n",
              " ('Cleveland', 'Richmond'): <gurobi.Var Cleveland_to_Richmond>,\n",
              " ('Cleveland', 'St._Louis'): <gurobi.Var Cleveland_to_St._Louis>,\n",
              " ('Little_Rock', 'Columbia'): <gurobi.Var Little_Rock_to_Columbia>,\n",
              " ('Little_Rock', 'Indianapolis'): <gurobi.Var Little_Rock_to_Indianapolis>,\n",
              " ('Little_Rock', 'Lexington'): <gurobi.Var Little_Rock_to_Lexington>,\n",
              " ('Little_Rock', 'Nashville'): <gurobi.Var Little_Rock_to_Nashville>,\n",
              " ('Little_Rock', 'Richmond'): <gurobi.Var Little_Rock_to_Richmond>,\n",
              " ('Little_Rock', 'St._Louis'): <gurobi.Var Little_Rock_to_St._Louis>,\n",
              " ('Birmingham', 'Columbia'): <gurobi.Var Birmingham_to_Columbia>,\n",
              " ('Birmingham', 'Indianapolis'): <gurobi.Var Birmingham_to_Indianapolis>,\n",
              " ('Birmingham', 'Lexington'): <gurobi.Var Birmingham_to_Lexington>,\n",
              " ('Birmingham', 'Nashville'): <gurobi.Var Birmingham_to_Nashville>,\n",
              " ('Birmingham', 'Richmond'): <gurobi.Var Birmingham_to_Richmond>,\n",
              " ('Birmingham', 'St._Louis'): <gurobi.Var Birmingham_to_St._Louis>,\n",
              " ('Charleston', 'Columbia'): <gurobi.Var Charleston_to_Columbia>,\n",
              " ('Charleston', 'Indianapolis'): <gurobi.Var Charleston_to_Indianapolis>,\n",
              " ('Charleston', 'Lexington'): <gurobi.Var Charleston_to_Lexington>,\n",
              " ('Charleston', 'Nashville'): <gurobi.Var Charleston_to_Nashville>,\n",
              " ('Charleston', 'Richmond'): <gurobi.Var Charleston_to_Richmond>,\n",
              " ('Charleston', 'St._Louis'): <gurobi.Var Charleston_to_St._Louis>}"
            ]
          },
          "metadata": {},
          "execution_count": 6
        }
      ],
      "source": [
        "# loop through each p and d combination to create a decision variable\n",
        "m = gp.Model('widgets')\n",
        "x = {}\n",
        "for p in production:\n",
        "  for d in distribution:\n",
        "    x[p,d] = m.addVar(name = p+\"_to_\"+d)\n",
        "\n",
        "m.update()\n",
        "x"
      ]
    },
    {
      "cell_type": "code",
      "execution_count": 7,
      "id": "b66187a6-2b42-4d9b-8a96-6969da5150fb",
      "metadata": {
        "colab": {
          "base_uri": "https://localhost:8080/"
        },
        "id": "b66187a6-2b42-4d9b-8a96-6969da5150fb",
        "outputId": "aa78fbe8-e368-4f1b-a71b-9226f072b8d8"
      },
      "outputs": [
        {
          "output_type": "execute_result",
          "data": {
            "text/plain": [
              "{('Baltimore', 'Columbia'): <gurobi.Var prod_ship[Baltimore,Columbia]>,\n",
              " ('Baltimore', 'Indianapolis'): <gurobi.Var prod_ship[Baltimore,Indianapolis]>,\n",
              " ('Baltimore', 'Lexington'): <gurobi.Var prod_ship[Baltimore,Lexington]>,\n",
              " ('Baltimore', 'Nashville'): <gurobi.Var prod_ship[Baltimore,Nashville]>,\n",
              " ('Baltimore', 'Richmond'): <gurobi.Var prod_ship[Baltimore,Richmond]>,\n",
              " ('Baltimore', 'St._Louis'): <gurobi.Var prod_ship[Baltimore,St._Louis]>,\n",
              " ('Cleveland', 'Columbia'): <gurobi.Var prod_ship[Cleveland,Columbia]>,\n",
              " ('Cleveland', 'Indianapolis'): <gurobi.Var prod_ship[Cleveland,Indianapolis]>,\n",
              " ('Cleveland', 'Lexington'): <gurobi.Var prod_ship[Cleveland,Lexington]>,\n",
              " ('Cleveland', 'Nashville'): <gurobi.Var prod_ship[Cleveland,Nashville]>,\n",
              " ('Cleveland', 'Richmond'): <gurobi.Var prod_ship[Cleveland,Richmond]>,\n",
              " ('Cleveland', 'St._Louis'): <gurobi.Var prod_ship[Cleveland,St._Louis]>,\n",
              " ('Little_Rock', 'Columbia'): <gurobi.Var prod_ship[Little_Rock,Columbia]>,\n",
              " ('Little_Rock',\n",
              "  'Indianapolis'): <gurobi.Var prod_ship[Little_Rock,Indianapolis]>,\n",
              " ('Little_Rock', 'Lexington'): <gurobi.Var prod_ship[Little_Rock,Lexington]>,\n",
              " ('Little_Rock', 'Nashville'): <gurobi.Var prod_ship[Little_Rock,Nashville]>,\n",
              " ('Little_Rock', 'Richmond'): <gurobi.Var prod_ship[Little_Rock,Richmond]>,\n",
              " ('Little_Rock', 'St._Louis'): <gurobi.Var prod_ship[Little_Rock,St._Louis]>,\n",
              " ('Birmingham', 'Columbia'): <gurobi.Var prod_ship[Birmingham,Columbia]>,\n",
              " ('Birmingham',\n",
              "  'Indianapolis'): <gurobi.Var prod_ship[Birmingham,Indianapolis]>,\n",
              " ('Birmingham', 'Lexington'): <gurobi.Var prod_ship[Birmingham,Lexington]>,\n",
              " ('Birmingham', 'Nashville'): <gurobi.Var prod_ship[Birmingham,Nashville]>,\n",
              " ('Birmingham', 'Richmond'): <gurobi.Var prod_ship[Birmingham,Richmond]>,\n",
              " ('Birmingham', 'St._Louis'): <gurobi.Var prod_ship[Birmingham,St._Louis]>,\n",
              " ('Charleston', 'Columbia'): <gurobi.Var prod_ship[Charleston,Columbia]>,\n",
              " ('Charleston',\n",
              "  'Indianapolis'): <gurobi.Var prod_ship[Charleston,Indianapolis]>,\n",
              " ('Charleston', 'Lexington'): <gurobi.Var prod_ship[Charleston,Lexington]>,\n",
              " ('Charleston', 'Nashville'): <gurobi.Var prod_ship[Charleston,Nashville]>,\n",
              " ('Charleston', 'Richmond'): <gurobi.Var prod_ship[Charleston,Richmond]>,\n",
              " ('Charleston', 'St._Louis'): <gurobi.Var prod_ship[Charleston,St._Louis]>}"
            ]
          },
          "metadata": {},
          "execution_count": 7
        }
      ],
      "source": [
        "# Provide each set for the indices\n",
        "m = gp.Model('widgets')\n",
        "x = m.addVars(production, distribution, name = 'prod_ship')\n",
        "m.update()\n",
        "x\n"
      ]
    },
    {
      "cell_type": "code",
      "execution_count": 8,
      "id": "4420b1b9-844b-4dc1-90f0-955938f5885c",
      "metadata": {
        "colab": {
          "base_uri": "https://localhost:8080/"
        },
        "id": "4420b1b9-844b-4dc1-90f0-955938f5885c",
        "outputId": "553f3cff-7ddc-4806-8f9e-93e487b5c90b"
      },
      "outputs": [
        {
          "output_type": "execute_result",
          "data": {
            "text/plain": [
              "{('Baltimore', 'Columbia'): <gurobi.Var prod_ship[Baltimore,Columbia]>,\n",
              " ('Baltimore', 'Indianapolis'): <gurobi.Var prod_ship[Baltimore,Indianapolis]>,\n",
              " ('Baltimore', 'Lexington'): <gurobi.Var prod_ship[Baltimore,Lexington]>,\n",
              " ('Baltimore', 'Nashville'): <gurobi.Var prod_ship[Baltimore,Nashville]>,\n",
              " ('Baltimore', 'Richmond'): <gurobi.Var prod_ship[Baltimore,Richmond]>,\n",
              " ('Baltimore', 'St._Louis'): <gurobi.Var prod_ship[Baltimore,St._Louis]>,\n",
              " ('Cleveland', 'Columbia'): <gurobi.Var prod_ship[Cleveland,Columbia]>,\n",
              " ('Cleveland', 'Indianapolis'): <gurobi.Var prod_ship[Cleveland,Indianapolis]>,\n",
              " ('Cleveland', 'Lexington'): <gurobi.Var prod_ship[Cleveland,Lexington]>,\n",
              " ('Cleveland', 'Nashville'): <gurobi.Var prod_ship[Cleveland,Nashville]>,\n",
              " ('Cleveland', 'Richmond'): <gurobi.Var prod_ship[Cleveland,Richmond]>,\n",
              " ('Cleveland', 'St._Louis'): <gurobi.Var prod_ship[Cleveland,St._Louis]>,\n",
              " ('Little_Rock', 'Columbia'): <gurobi.Var prod_ship[Little_Rock,Columbia]>,\n",
              " ('Little_Rock',\n",
              "  'Indianapolis'): <gurobi.Var prod_ship[Little_Rock,Indianapolis]>,\n",
              " ('Little_Rock', 'Lexington'): <gurobi.Var prod_ship[Little_Rock,Lexington]>,\n",
              " ('Little_Rock', 'Nashville'): <gurobi.Var prod_ship[Little_Rock,Nashville]>,\n",
              " ('Little_Rock', 'Richmond'): <gurobi.Var prod_ship[Little_Rock,Richmond]>,\n",
              " ('Little_Rock', 'St._Louis'): <gurobi.Var prod_ship[Little_Rock,St._Louis]>,\n",
              " ('Birmingham', 'Columbia'): <gurobi.Var prod_ship[Birmingham,Columbia]>,\n",
              " ('Birmingham',\n",
              "  'Indianapolis'): <gurobi.Var prod_ship[Birmingham,Indianapolis]>,\n",
              " ('Birmingham', 'Lexington'): <gurobi.Var prod_ship[Birmingham,Lexington]>,\n",
              " ('Birmingham', 'Nashville'): <gurobi.Var prod_ship[Birmingham,Nashville]>,\n",
              " ('Birmingham', 'Richmond'): <gurobi.Var prod_ship[Birmingham,Richmond]>,\n",
              " ('Birmingham', 'St._Louis'): <gurobi.Var prod_ship[Birmingham,St._Louis]>,\n",
              " ('Charleston', 'Columbia'): <gurobi.Var prod_ship[Charleston,Columbia]>,\n",
              " ('Charleston',\n",
              "  'Indianapolis'): <gurobi.Var prod_ship[Charleston,Indianapolis]>,\n",
              " ('Charleston', 'Lexington'): <gurobi.Var prod_ship[Charleston,Lexington]>,\n",
              " ('Charleston', 'Nashville'): <gurobi.Var prod_ship[Charleston,Nashville]>,\n",
              " ('Charleston', 'Richmond'): <gurobi.Var prod_ship[Charleston,Richmond]>,\n",
              " ('Charleston', 'St._Louis'): <gurobi.Var prod_ship[Charleston,St._Louis]>}"
            ]
          },
          "metadata": {},
          "execution_count": 8
        }
      ],
      "source": [
        "# The index of the tranporation costs have each combination of prodiction and distribution location\n",
        "m = gp.Model('widgets')\n",
        "x = m.addVars(transp_cost.index, name = 'prod_ship')\n",
        "m.update()\n",
        "x"
      ]
    },
    {
      "cell_type": "markdown",
      "id": "94a42856-5458-4501-959e-c0265af517c2",
      "metadata": {
        "id": "94a42856-5458-4501-959e-c0265af517c2"
      },
      "source": [
        "The command `m.update()` updates the model to include any changes that have been made, like adding variables. It doesn't need to be run in every cell but if you see *Awaiting Model Update* in the output of a cell, then this should prevent that from happening."
      ]
    },
    {
      "cell_type": "markdown",
      "id": "9dde6c86",
      "metadata": {
        "id": "9dde6c86"
      },
      "source": [
        "## Constraints\n",
        "We outlined production and demand constraints at the beginning of this example; now we formulate and code them. Note that it doesn't matter the order in which constraints (and/or decision variables) are added to the model.\n",
        "\n",
        "### Add Constraints in gurobipy\n",
        "Adding constraints to a model is similar to adding variables:\n",
        "- [addConstr()](https://www.gurobi.com/documentation/10.0/refman/py_model_addconstr.html) adds a single constraint\n",
        "- [addConstrs()](https://www.gurobi.com/documentation/10.0/refman/py_model_addconstrs.htmll) adds a group of constraints using a Python `generator` expression\n",
        "\n",
        "### Our Constraints\n",
        "To start, we'll formulate the demand constraints for each distribution location first and add them to the model.\n",
        "\n",
        "\\begin{align*}\n",
        "\\sum_{p}x_{p,d} \\ge n_d, \\quad \\forall d \\in D \\quad\\quad \\texttt{meet}\\_\\texttt{demand[d]}\\\\\n",
        "\\end{align*}\n",
        "\n",
        "This will be the first time we use [gp.quicksum()](https://www.gurobi.com/documentation/10.0/refman/py_quicksum.html). There are other ways to sum expressions in gurobipy and while this method isn't the most concise to code, it is easy to compare it to the summation in the formulation to see how it works."
      ]
    },
    {
      "cell_type": "code",
      "source": [
        "production"
      ],
      "metadata": {
        "colab": {
          "base_uri": "https://localhost:8080/"
        },
        "id": "Y1y6lBn8sBuW",
        "outputId": "8c4b5045-5445-4330-dedb-e82bea96a49b"
      },
      "id": "Y1y6lBn8sBuW",
      "execution_count": 9,
      "outputs": [
        {
          "output_type": "execute_result",
          "data": {
            "text/plain": [
              "['Baltimore', 'Cleveland', 'Little_Rock', 'Birmingham', 'Charleston']"
            ]
          },
          "metadata": {},
          "execution_count": 9
        }
      ]
    },
    {
      "cell_type": "code",
      "source": [
        " meet_demand = m.addConstrs((gp.quicksum(x[p,d] for p in production) >= n_demand[d] for d in distribution),\n",
        "              name='meet_demand')\n",
        " m.update()\n",
        " meet_demand"
      ],
      "metadata": {
        "colab": {
          "base_uri": "https://localhost:8080/"
        },
        "id": "CvI4nVXrqPnA",
        "outputId": "a4e62e36-b312-4053-dd40-460dd8b0a6c8"
      },
      "id": "CvI4nVXrqPnA",
      "execution_count": 10,
      "outputs": [
        {
          "output_type": "execute_result",
          "data": {
            "text/plain": [
              "{'Columbia': <gurobi.Constr meet_demand[Columbia]>,\n",
              " 'Indianapolis': <gurobi.Constr meet_demand[Indianapolis]>,\n",
              " 'Lexington': <gurobi.Constr meet_demand[Lexington]>,\n",
              " 'Nashville': <gurobi.Constr meet_demand[Nashville]>,\n",
              " 'Richmond': <gurobi.Constr meet_demand[Richmond]>,\n",
              " 'St._Louis': <gurobi.Constr meet_demand[St._Louis]>}"
            ]
          },
          "metadata": {},
          "execution_count": 10
        }
      ]
    },
    {
      "cell_type": "markdown",
      "id": "ecca1f83-c111-47f1-9a34-6eeb2a1f63b6",
      "metadata": {
        "id": "ecca1f83-c111-47f1-9a34-6eeb2a1f63b6"
      },
      "source": [
        "Next we have the maximum number of widgets each production facility can make. We also have that each facility must make at least 75% of its max production.\n",
        "\n",
        "$$\n",
        "\\begin{align*}\n",
        "\\sum_{d}x_{p,d} &\\le m_p, &\\forall p \\in P \\quad\\quad &\\texttt{can}\\_\\texttt{produce[p]}\\\\\n",
        "\\sum_{d}x_{p,d} &\\ge a*m_p,&\\forall p \\in P \\quad\\quad &\\texttt{must}\\_\\texttt{produce[p]}\\\\\n",
        "\\end{align*}\n",
        "$$\n"
      ]
    },
    {
      "cell_type": "code",
      "execution_count": 11,
      "id": "d70dbb23-db8f-40fb-af49-1682071c6c62",
      "metadata": {
        "id": "d70dbb23-db8f-40fb-af49-1682071c6c62"
      },
      "outputs": [],
      "source": [
        "can_produce = m.addConstrs((gp.quicksum(x[p,d] for d in distribution) <= max_prod[p] for p in production),\n",
        "                           name = 'can_produce')\n",
        "\n",
        "must_produce = m.addConstrs((gp.quicksum(x[p,d] for d in distribution) >= frac*max_prod[p] for p in production),\n",
        "                            name = 'must_produce')\n",
        "#sum over the distribution centre\n",
        "\n",
        "m.update()"
      ]
    },
    {
      "cell_type": "code",
      "source": [
        "can_produce"
      ],
      "metadata": {
        "id": "uyWsF9stwBfj",
        "outputId": "83a4e231-59f5-4506-f310-0d633e1516bd",
        "colab": {
          "base_uri": "https://localhost:8080/"
        }
      },
      "id": "uyWsF9stwBfj",
      "execution_count": 12,
      "outputs": [
        {
          "output_type": "execute_result",
          "data": {
            "text/plain": [
              "{'Baltimore': <gurobi.Constr can_produce[Baltimore]>,\n",
              " 'Cleveland': <gurobi.Constr can_produce[Cleveland]>,\n",
              " 'Little_Rock': <gurobi.Constr can_produce[Little_Rock]>,\n",
              " 'Birmingham': <gurobi.Constr can_produce[Birmingham]>,\n",
              " 'Charleston': <gurobi.Constr can_produce[Charleston]>}"
            ]
          },
          "metadata": {},
          "execution_count": 12
        }
      ]
    },
    {
      "cell_type": "markdown",
      "id": "b5be8505-9359-4004-8ac0-b54502db661e",
      "metadata": {
        "id": "b5be8505-9359-4004-8ac0-b54502db661e"
      },
      "source": [
        "## Objective Function\n",
        "We were told to **reduce** the transportation costs and we'll use this to determine our objective function as minimizing the total cost to ship widgets from production to distribution locations.\n",
        "\n",
        "### Setting the Objective in gurobipy\n",
        "This is done using [setObjective()](https://www.gurobi.com/documentation/10.0/refman/py_model_setobjective.html). The second argument (in this case `GRB.MINIMIZE`) is called the model's *sense*. For a maximization problem we would use `GRB.MAXIMIZE`.\n",
        "\n",
        "### Our Objective Function\n",
        "\\begin{align*}\n",
        "{\\rm minimize} \\space \\sum_{p,d}c_{p,d}x_{p,d}, \\quad \\forall p \\in P, d \\in D\\\\\n",
        "\\end{align*}"
      ]
    },
    {
      "cell_type": "code",
      "execution_count": 13,
      "id": "2756333c-6a92-4a3a-ba4d-9ec706d900f9",
      "metadata": {
        "id": "2756333c-6a92-4a3a-ba4d-9ec706d900f9"
      },
      "outputs": [],
      "source": [
        "m.setObjective(gp.quicksum(transp_cost[i,j] * x[i,j] for i in production for j in distribution), GRB.MINIMIZE)"
      ]
    },
    {
      "cell_type": "markdown",
      "id": "4b77c7b0-ddd1-48de-8d41-71a2e0fd77f3",
      "metadata": {
        "id": "4b77c7b0-ddd1-48de-8d41-71a2e0fd77f3"
      },
      "source": [
        "## Find, Extract, and Analyze the Solution\n",
        "Before running the optimization, it is a good idea to write an `lp` file. This is a text file that prints out the variables, constraints, and object like we would see in the *formulation*, just without the summation symbols and using the names we designated."
      ]
    },
    {
      "cell_type": "code",
      "execution_count": 14,
      "id": "f2f93cde-16ae-4e1d-a9ab-835761587e7f",
      "metadata": {
        "id": "f2f93cde-16ae-4e1d-a9ab-835761587e7f"
      },
      "outputs": [],
      "source": [
        "m.write('widget_shipment.lp')"
      ]
    },
    {
      "cell_type": "markdown",
      "id": "12763405-b27f-4a6d-897f-db30df211caa",
      "metadata": {
        "id": "12763405-b27f-4a6d-897f-db30df211caa"
      },
      "source": [
        "### Run the Optimization"
      ]
    },
    {
      "cell_type": "code",
      "execution_count": null,
      "id": "119fc40e-d1fc-4d13-b227-90255fd806ea",
      "metadata": {
        "id": "119fc40e-d1fc-4d13-b227-90255fd806ea"
      },
      "outputs": [],
      "source": [
        "m.optimize()"
      ]
    },
    {
      "cell_type": "markdown",
      "id": "2ee05c74-fe8d-445f-9ffe-4a25d123a17b",
      "metadata": {
        "id": "2ee05c74-fe8d-445f-9ffe-4a25d123a17b"
      },
      "source": [
        "### Extract the Solution\n",
        "There are many ways to get the values of decision variables out of gurobipy."
      ]
    },
    {
      "cell_type": "code",
      "execution_count": null,
      "id": "69d92eda-0937-4aff-8e60-ff012d766fa0",
      "metadata": {
        "id": "69d92eda-0937-4aff-8e60-ff012d766fa0"
      },
      "outputs": [],
      "source": [
        "x_values = pd.Series(m.getAttr('X', x), name = \"shipment\", index = transp_cost.index)\n",
        "sol = pd.concat([transp_cost, x_values], axis=1)\n",
        "#sol\n",
        "sol[sol.shipment > 0]"
      ]
    },
    {
      "cell_type": "markdown",
      "id": "47ec3d90-5155-4224-a522-4277bdc3b870",
      "metadata": {
        "id": "47ec3d90-5155-4224-a522-4277bdc3b870"
      },
      "source": [
        "Here are a couple of other ways to get the solution."
      ]
    },
    {
      "cell_type": "code",
      "execution_count": null,
      "id": "65811b4c-d4a2-4565-8416-df6478635211",
      "metadata": {
        "id": "65811b4c-d4a2-4565-8416-df6478635211"
      },
      "outputs": [],
      "source": [
        "# You can get the name and value of all the decision variables:\n",
        "all_vars = {v.varName: v.x for v in m.getVars()}\n",
        "all_vars"
      ]
    },
    {
      "cell_type": "markdown",
      "id": "ede5f4f3-9035-4f88-85e6-b9e95ade4435",
      "metadata": {
        "id": "ede5f4f3-9035-4f88-85e6-b9e95ade4435"
      },
      "source": [
        "Or you can only iterate over a specific variable and only return values that are of interest to you. Remember, x is a dict in python. So, iterate over it, the same way you iterate over any dictionary"
      ]
    },
    {
      "cell_type": "code",
      "execution_count": null,
      "id": "34e5f6ef-d9ec-4f53-98b8-c9d4d5afd4b7",
      "metadata": {
        "id": "34e5f6ef-d9ec-4f53-98b8-c9d4d5afd4b7"
      },
      "outputs": [],
      "source": [
        "xvals = {k: v.x for k,v in x.items() if v.x > 0}\n",
        "xvals"
      ]
    },
    {
      "cell_type": "markdown",
      "id": "bde35449-0b63-4bb4-9926-d20013b1b95b",
      "metadata": {
        "id": "bde35449-0b63-4bb4-9926-d20013b1b95b"
      },
      "source": [
        "### Solution Analysis\n",
        "While determining the optimal transportation of widgets was our goal, we may want to dig a little deeper into the solution. For example we can aggregate the total production by facility to see which locations (if any) did not produce their maximum capacity of widgets and which (if any) production facilities are at the lower bound of their production."
      ]
    },
    {
      "cell_type": "code",
      "execution_count": null,
      "id": "53a42bc7-1e45-4245-84b9-f648d7e74fa5",
      "metadata": {
        "id": "53a42bc7-1e45-4245-84b9-f648d7e74fa5"
      },
      "outputs": [],
      "source": [
        "# Sum the shipment amount by production facility\n",
        "ship_out = sol.groupby('production')['shipment'].sum()\n",
        "pd.DataFrame({'Remaining':max_prod - ship_out, 'Utilization':ship_out/max_prod})"
      ]
    },
    {
      "cell_type": "markdown",
      "id": "105d6054-67e4-4237-b00a-705b9d34a153",
      "metadata": {
        "id": "105d6054-67e4-4237-b00a-705b9d34a153"
      },
      "source": [
        "In mathematical optimization, when the left-hand and right-hand sides of an inequality constraint are equal, we say the constraint is `binding`. When this *doesn't happen* then there is `slack` or `surplus` in that constraint. We can get this value by calling the `Slack` attribute of a constraint."
      ]
    },
    {
      "cell_type": "code",
      "execution_count": null,
      "id": "30213e7c-bc28-4d31-be7c-b57925ee68b1",
      "metadata": {
        "id": "30213e7c-bc28-4d31-be7c-b57925ee68b1"
      },
      "outputs": [],
      "source": [
        "pd.DataFrame({'Remaining':[can_produce[p].Slack for p in production],\n",
        "              'Utilization':[1-can_produce[p].Slack/max_prod[p] for p in production]},\n",
        "             index = production)"
      ]
    },
    {
      "cell_type": "markdown",
      "id": "8f2d53b5-54bc-48c7-97e6-26c1c0f329b0",
      "metadata": {
        "id": "8f2d53b5-54bc-48c7-97e6-26c1c0f329b0"
      },
      "source": [
        "# Using Binary Variables\n",
        "As we described in the first session and also at the top of this notebook, binary variables are used to choose alternatives in mathematical optimization. They can be interpreted as a yes/no decision or an on/off switch.\n",
        "\n",
        "In the original problem Birmingham's production is much lower than the rest of the facilities. Suppose we have the option to expand that facilities max capacity by either 25 or 50 widgets, but there is a cost of \\\\$50 and \\\\$75, respectively, to choose one of these options and we can choose at most one. We'll use a binary decision variable for each option named $xprod$.\n",
        "\n",
        "Let $xprod_0 = 1$ if we choose the first option and expand production capacity by 25 and $0$ otherwise.\n",
        "Let $xprod_1 = 1$ if we choose the second option and expand production capacity by 50 and $0$ otherwise.\n",
        "\n",
        "While it's fairly common to use single lowercase letters as decision variables, it is not necessary and you'll see variables defined as above (where they are more descriptive) quite often. We will formulate a new model that contains the same decision variables and demand constraints as before."
      ]
    },
    {
      "cell_type": "code",
      "execution_count": null,
      "id": "dd9a333d-ae1d-4b29-a69c-760a7414ef59",
      "metadata": {
        "id": "dd9a333d-ae1d-4b29-a69c-760a7414ef59"
      },
      "outputs": [],
      "source": [
        "# We use m2 for the second model\n",
        "# These parts are the same as above outside of the new model name\n",
        "m2 = gp.Model('widgets2')\n",
        "x = m2.addVars(production, distribution, obj = transp_cost, name = 'prod_ship')\n",
        "meet_demand = m2.addConstrs((gp.quicksum(x[p,d] for p in production) >= n_demand[d] for d in distribution), name = 'meet_demand')"
      ]
    },
    {
      "cell_type": "markdown",
      "id": "5bc726e6-7982-46bd-9568-925351b22306",
      "metadata": {
        "id": "5bc726e6-7982-46bd-9568-925351b22306"
      },
      "source": [
        "In the cell above we did use new argument of the `addVars()` function: `obj`. This will set the coefficient of the added decision variables in the objective function and is equivalent to what we did earlier by attaching the transportation costs between each production and distribution location to the appropriate decision variable.  \n",
        "\n",
        "Next, we'll add the same constraints for production limits as before for each production facility other than Birmingham. The formulation is basically the same other than the set the constraints hold for.\n",
        "$$\n",
        "\\begin{align*}\n",
        "\\sum_{d}x_{p,d} &\\le m_p, &\\forall p \\in P -\\{\\texttt{Birmingham}\\} \\\\\n",
        "\\sum_{d}x_{p,d} &\\ge a*m_p,&\\forall p \\in P -\\{\\texttt{Birmingham}\\} \\\\\n",
        "\\end{align*}\n",
        "$$\n",
        "\n",
        "In gurobipy, this is done by adding a condition in the `generator` expression."
      ]
    },
    {
      "cell_type": "code",
      "execution_count": null,
      "id": "38e30563-b8c8-454b-9b61-e6ef6fa5fe83",
      "metadata": {
        "id": "38e30563-b8c8-454b-9b61-e6ef6fa5fe83"
      },
      "outputs": [],
      "source": []
    },
    {
      "cell_type": "markdown",
      "id": "ed539f12-4ce2-4de6-820f-076e45ac0a73",
      "metadata": {
        "id": "ed539f12-4ce2-4de6-820f-076e45ac0a73"
      },
      "source": [
        "Now, add the new binary variables."
      ]
    },
    {
      "cell_type": "code",
      "execution_count": null,
      "id": "5eda68b8-6f7c-4245-8553-42f41fff5a7a",
      "metadata": {
        "id": "5eda68b8-6f7c-4245-8553-42f41fff5a7a"
      },
      "outputs": [],
      "source": []
    },
    {
      "cell_type": "markdown",
      "id": "bf53d755-2ff2-46e3-a38a-2c8fb1434c64",
      "metadata": {
        "id": "bf53d755-2ff2-46e3-a38a-2c8fb1434c64"
      },
      "source": [
        "Let's breakdown each of the arguments in the cell above -- there are a few new things there.\n",
        "1. `range(n)` is used to add $n$ decision variables. In this case we add 2 variables.\n",
        "2. We need to declare this as a binary variable using `vtype`.\n",
        "3. We again use the `obj` capability to immediately set the objective function coefficients for these variables.\n",
        "\n",
        "The objective and new binary variables look like this in the formulation:\n",
        "\n",
        "\\begin{align*}\n",
        "{\\rm minimize} \\space &\\sum_{p,d}c_{p,d}x_{p,d} + 50*xprod_0 + 75*xprod_1, \\quad &\\forall p \\in P, d \\in D\\\\\n",
        "&xprod_i \\in \\{0,1\\}, &{\\rm for} \\space i \\in \\{0,1\\}\n",
        "\\end{align*}\n",
        "\n",
        "Next we have the production constraints that are specific to the Birmingham facility.\n",
        "\n",
        "$$\n",
        "\\begin{align*}\n",
        "\\sum_{d}x_{p,d} &\\le m_p + 25*xprod_0 + 50*xprod_1, & p = \\texttt{Birmingham} \\\\\n",
        "\\sum_{d}x_{p,d} &\\ge a*(m_p+ 25*xprod_0 + 50*xprod_1),& p = \\texttt{Birmingham} \\\\\n",
        "\\end{align*}\n",
        "$$"
      ]
    },
    {
      "cell_type": "code",
      "execution_count": null,
      "id": "487ee3df-6cf0-421a-95dc-54440248d81f",
      "metadata": {
        "id": "487ee3df-6cf0-421a-95dc-54440248d81f"
      },
      "outputs": [],
      "source": []
    },
    {
      "cell_type": "markdown",
      "id": "4ed63a6b-ef71-4eb6-b237-637096518f0a",
      "metadata": {
        "id": "4ed63a6b-ef71-4eb6-b237-637096518f0a"
      },
      "source": [
        "It was stated above that we can select at most one of the expansion options which means we cannot allow both $xprod_0$ and $xprod_1$ to equal one. To model this we add a constraint limiting the sum of these two binary variables to at most one.\n",
        "\n",
        "$$\n",
        "\\begin{align*}\n",
        "\\sum_{i}xprod_i \\le 1\n",
        "\\end{align*}\n",
        "$$\n",
        "The corresponding constraint in gurobipy:"
      ]
    },
    {
      "cell_type": "code",
      "execution_count": null,
      "id": "a48175c5-6b22-402f-a207-9f590b7dc5cd",
      "metadata": {
        "id": "a48175c5-6b22-402f-a207-9f590b7dc5cd"
      },
      "outputs": [],
      "source": []
    },
    {
      "cell_type": "markdown",
      "id": "14e96d35-1d54-4c65-be2c-0b4c6d26d964",
      "metadata": {
        "id": "14e96d35-1d54-4c65-be2c-0b4c6d26d964"
      },
      "source": [
        "Now we can run this optimization model and see if this potential expansion will help us reduce overall costs."
      ]
    },
    {
      "cell_type": "code",
      "execution_count": null,
      "id": "fb182d4c-c533-4cc1-a559-05c07ef18975",
      "metadata": {
        "id": "fb182d4c-c533-4cc1-a559-05c07ef18975"
      },
      "outputs": [],
      "source": [
        "m2.optimize()"
      ]
    },
    {
      "cell_type": "code",
      "execution_count": null,
      "id": "34d94ec0-6ab4-4b68-8181-0c432595642e",
      "metadata": {
        "id": "34d94ec0-6ab4-4b68-8181-0c432595642e"
      },
      "outputs": [],
      "source": [
        "obj1 = m.getObjective()\n",
        "obj2 = m2.getObjective()\n",
        "print(f\"The original model had a total cost of {round(obj1.getValue(),2)}\")\n",
        "print(f\"The new formualtion has a total cost of {round(obj2.getValue(),2)}\")"
      ]
    },
    {
      "cell_type": "markdown",
      "id": "6813d599-d8c1-49c3-8f09-f495c3b1af16",
      "metadata": {
        "id": "6813d599-d8c1-49c3-8f09-f495c3b1af16"
      },
      "source": [
        "What does the change in objective function value tell us?\n",
        "\n",
        "Let's look at values of our binary variables."
      ]
    },
    {
      "cell_type": "code",
      "execution_count": null,
      "id": "3177169c-67b9-4db3-804d-8b17b32fe70d",
      "metadata": {
        "id": "3177169c-67b9-4db3-804d-8b17b32fe70d"
      },
      "outputs": [],
      "source": [
        "pd.Series(m2.getAttr('X', xprod))"
      ]
    },
    {
      "cell_type": "markdown",
      "id": "3410274c-55fd-4724-9f76-92cfc8178647",
      "metadata": {
        "id": "3410274c-55fd-4724-9f76-92cfc8178647"
      },
      "source": [
        "The model selected the first expansion option since $xprod_0 = 1$, which was increasing production by 25 widgets in Birmingham. We can see the rest of the solution, which will include the increase in Birmingham's production capacity."
      ]
    },
    {
      "cell_type": "code",
      "execution_count": null,
      "id": "05f918a8-ed81-4210-a341-c2d401f1276c",
      "metadata": {
        "id": "05f918a8-ed81-4210-a341-c2d401f1276c"
      },
      "outputs": [],
      "source": [
        "x2_values = pd.Series(m2.getAttr('X', x), name = \"shipment\", index = transp_cost.index)\n",
        "sol2 = pd.concat([transp_cost, x2_values], axis=1)\n",
        "sol2[sol2.shipment > 0]"
      ]
    },
    {
      "cell_type": "markdown",
      "id": "90a9b8d1-fe39-410a-a551-4ddb165ffd5a",
      "metadata": {
        "id": "90a9b8d1-fe39-410a-a551-4ddb165ffd5a"
      },
      "source": [
        "### Homework! (not really, but something to look into)\n",
        "Analyze how the optimal solution changes between the two models. You'll notice something weird.\n",
        "- What is it that's odd?\n",
        "- Why do you think it happened?\n",
        "- How would you address it from formulation perspective and a business perspective?"
      ]
    }
  ],
  "metadata": {
    "kernelspec": {
      "display_name": "Python 3 (ipykernel)",
      "language": "python",
      "name": "python3"
    },
    "language_info": {
      "codemirror_mode": {
        "name": "ipython",
        "version": 3
      },
      "file_extension": ".py",
      "mimetype": "text/x-python",
      "name": "python",
      "nbconvert_exporter": "python",
      "pygments_lexer": "ipython3",
      "version": "3.9.7"
    },
    "toc-autonumbering": false,
    "toc-showcode": false,
    "toc-showmarkdowntxt": false,
    "vscode": {
      "interpreter": {
        "hash": "70d79b410022258e996d14a47d5687c6c473c4d5d0c04ea47c92533eee9f501f"
      }
    },
    "colab": {
      "provenance": []
    }
  },
  "nbformat": 4,
  "nbformat_minor": 5
}